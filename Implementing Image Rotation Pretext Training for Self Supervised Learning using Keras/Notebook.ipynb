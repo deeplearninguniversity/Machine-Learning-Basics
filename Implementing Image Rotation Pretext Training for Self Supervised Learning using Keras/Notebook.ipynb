{
  "nbformat": 4,
  "nbformat_minor": 0,
  "metadata": {
    "colab": {
      "name": "Untitled7.ipynb",
      "provenance": []
    },
    "kernelspec": {
      "name": "python3",
      "display_name": "Python 3"
    },
    "language_info": {
      "name": "python"
    }
  },
  "cells": [
    {
      "cell_type": "markdown",
      "metadata": {
        "id": "lDgGN_5qzrIP"
      },
      "source": [
        "# Importing libraries"
      ]
    },
    {
      "cell_type": "code",
      "metadata": {
        "id": "VUZ9Zz-djo45"
      },
      "source": [
        "# Importing Libraries\n",
        "import numpy as np\n",
        "import pandas as pd\n",
        "import matplotlib\n",
        "import matplotlib.pyplot as plt\n",
        "import tensorflow as tf\n",
        "from tensorflow import keras"
      ],
      "execution_count": 2,
      "outputs": []
    },
    {
      "cell_type": "markdown",
      "metadata": {
        "id": "o27G_rkKzyDY"
      },
      "source": [
        "# Loading Data"
      ]
    },
    {
      "cell_type": "code",
      "metadata": {
        "id": "2Z4IpvU7yJ5S"
      },
      "source": [
        "data=keras.datasets.fashion_mnist\n",
        "\n",
        "# Getting the Data\n",
        "(X_train, y_train), (X_test, y_test)=data.load_data()"
      ],
      "execution_count": 3,
      "outputs": []
    },
    {
      "cell_type": "code",
      "metadata": {
        "id": "y72SNo87O6l8"
      },
      "source": [
        "# Normalizing the Dataset\n",
        "X_train=X_train/255\n",
        "X_test=X_test/255"
      ],
      "execution_count": 5,
      "outputs": []
    },
    {
      "cell_type": "code",
      "metadata": {
        "id": "_pwZ02bUN46z"
      },
      "source": [
        "# Creating Validation and Test set\n",
        "X_val=X_test[:5000]\n",
        "y_val=y_test[:5000]\n",
        "\n",
        "X_test=X_test[5000:]\n",
        "y_test=y_test[5000:]"
      ],
      "execution_count": 6,
      "outputs": []
    },
    {
      "cell_type": "code",
      "metadata": {
        "id": "Uced0wYnOfpL"
      },
      "source": [
        "# Creating Un-labeled dataset\n",
        "X_unlabeled=X_train[10000:]\n",
        "\n",
        "# Creating Labeled dataset\n",
        "X_labeled=X_train[:10000]\n",
        "y_labeled=y_train[:10000]"
      ],
      "execution_count": 7,
      "outputs": []
    },
    {
      "cell_type": "markdown",
      "metadata": {
        "id": "cDyufD5wz3to"
      },
      "source": [
        "#Preprocessing Data and creating a validation set"
      ]
    },
    {
      "cell_type": "code",
      "metadata": {
        "id": "Gu7aoc05vpHx"
      },
      "source": [
        "# X_train_0 dataset will contain images rotated by 0 degrees(No rotation)\n",
        "X_train_0=X_unlabeled.copy()\n",
        "\n",
        "# X_train_90 dataset will contain images rotated by 90 degrees\n",
        "X_train_90=np.rot90(X_unlabeled, axes=(1,2))\n",
        "\n",
        "# X_train_180 dataset will contain images rotated by 180 degrees\n",
        "X_train_180=np.rot90(X_unlabeled, 2, axes=(1,2))\n",
        "\n",
        "# X_train_270 dataset will contain images rotated by 270 degrees\n",
        "X_train_270=np.rot90(X_unlabeled, 3, axes=(1,2))"
      ],
      "execution_count": 10,
      "outputs": []
    },
    {
      "cell_type": "code",
      "metadata": {
        "id": "HfIRJKVvPfYU"
      },
      "source": [
        "# Assigning pseudo-labels to rotated image datasets\n",
        "y_train_0=np.full((50000), 0)\n",
        "y_train_90=np.full((50000), 1)\n",
        "y_train_180=np.full((50000), 2)\n",
        "y_train_270=np.full((50000), 3)"
      ],
      "execution_count": 16,
      "outputs": []
    },
    {
      "cell_type": "code",
      "metadata": {
        "id": "WMmb92uIQhJE"
      },
      "source": [
        "# Concatenating Datasets\n",
        "X_train_unlabeled_full=np.concatenate((X_train_0, X_train_90, X_train_180, X_train_270), axis=0)\n",
        "y_train_unlabeled_full=np.concatenate((y_train_0, y_train_90, y_train_180, y_train_270), axis=0)"
      ],
      "execution_count": 17,
      "outputs": []
    },
    {
      "cell_type": "code",
      "metadata": {
        "id": "BqIRFaAgSmIi"
      },
      "source": [
        "# The function will distribute the samples uniformly over dataset\n",
        "def unison_shuffled_copies(a, b):\n",
        "    assert len(a) == len(b)\n",
        "    p = np.random.permutation(len(a))\n",
        "    return a[p], b[p]"
      ],
      "execution_count": 21,
      "outputs": []
    },
    {
      "cell_type": "code",
      "metadata": {
        "id": "JC8OeE2SS-QF"
      },
      "source": [
        "# Randomly shuffling the concatenated dataset\n",
        "X_train_unlabeled_full_shuffled, y_train_unlabeled_full_shuffled = unison_shuffled_copies(X_train_unlabeled_full, y_train_unlabeled_full)"
      ],
      "execution_count": 25,
      "outputs": []
    },
    {
      "cell_type": "markdown",
      "metadata": {
        "id": "I4RSElybTbwi"
      },
      "source": [
        "# Creating a CNN and training it on rotations of image"
      ]
    },
    {
      "cell_type": "code",
      "metadata": {
        "id": "jJGejh9hTY-g"
      },
      "source": [
        "# Creating a Convolutional Neural Network\n",
        "model = keras.models.Sequential([\n",
        "        keras.layers.Conv2D(64, 7, activation=\"relu\", padding=\"same\",\n",
        "                            input_shape=[28, 28, 1]),\n",
        "        keras.layers.MaxPooling2D(2),\n",
        "        keras.layers.Conv2D(128, 3, activation=\"relu\", padding=\"same\"),\n",
        "        keras.layers.Conv2D(128, 3, activation=\"relu\", padding=\"same\"),\n",
        "        keras.layers.MaxPooling2D(2),\n",
        "        keras.layers.Conv2D(256, 3, activation=\"relu\", padding=\"same\"),\n",
        "        keras.layers.Conv2D(256, 3, activation=\"relu\", padding=\"same\"),\n",
        "        keras.layers.MaxPooling2D(2),\n",
        "        keras.layers.Flatten(),\n",
        "        keras.layers.Dense(128, activation=\"relu\"),\n",
        "        keras.layers.Dropout(0.5),\n",
        "        keras.layers.Dense(64, activation=\"relu\"),\n",
        "        keras.layers.Dropout(0.5),\n",
        "        keras.layers.Dense(4, activation=\"softmax\")\n",
        "])"
      ],
      "execution_count": 26,
      "outputs": []
    },
    {
      "cell_type": "code",
      "metadata": {
        "id": "VOVI0SouT3YT"
      },
      "source": [
        "# Compiling the model\n",
        "model.compile(loss=\"sparse_categorical_crossentropy\", optimizer=\"sgd\", metrics=[\"accuracy\"])"
      ],
      "execution_count": 27,
      "outputs": []
    },
    {
      "cell_type": "code",
      "metadata": {
        "id": "Mqx0PJs9UJMe"
      },
      "source": [
        "# Creating Validation and Test Dataset for Pretext Task\n",
        "X_rot_val, X_rot_train = X_train_unlabeled_full_shuffled[:10000], X_train_unlabeled_full_shuffled[10000:]\n",
        "y_rot_val, y_rot_train = y_train_unlabeled_full_shuffled[:10000], y_train_unlabeled_full_shuffled[10000:]"
      ],
      "execution_count": 28,
      "outputs": []
    },
    {
      "cell_type": "code",
      "metadata": {
        "id": "CG-OdGkWYbuy"
      },
      "source": [
        "# Reshaping the Inputs\n",
        "X_rot_val=X_rot_val.reshape(-1, 28, 28, 1)\n",
        "X_rot_train=X_rot_train.reshape(-1, 28, 28, 1)"
      ],
      "execution_count": 29,
      "outputs": []
    },
    {
      "cell_type": "code",
      "metadata": {
        "id": "Yc6n5R-hZOEH"
      },
      "source": [
        "tf.config.run_functions_eagerly(True)"
      ],
      "execution_count": 31,
      "outputs": []
    },
    {
      "cell_type": "code",
      "metadata": {
        "colab": {
          "base_uri": "https://localhost:8080/"
        },
        "id": "x153uoJ2Urp3",
        "outputId": "a1961697-1786-45f2-f539-3a5977819614"
      },
      "source": [
        "# Training the model on Pretext Task\n",
        "history = model.fit(X_rot_train, y_rot_train, epochs=5, validation_data=(X_rot_val, y_rot_val))"
      ],
      "execution_count": null,
      "outputs": [
        {
          "output_type": "stream",
          "text": [
            "/usr/local/lib/python3.7/dist-packages/tensorflow/python/data/ops/dataset_ops.py:3704: UserWarning: Even though the `tf.config.experimental_run_functions_eagerly` option is set, this option does not apply to tf.data functions. To force eager execution of tf.data functions, please use `tf.data.experimental.enable.debug_mode()`.\n",
            "  \"Even though the `tf.config.experimental_run_functions_eagerly` \"\n"
          ],
          "name": "stderr"
        },
        {
          "output_type": "stream",
          "text": [
            "Epoch 1/5\n",
            "5938/5938 [==============================] - 2536s 427ms/step - loss: 0.5245 - accuracy: 0.7892 - val_loss: 0.1712 - val_accuracy: 0.9387\n",
            "Epoch 2/5\n",
            "5938/5938 [==============================] - 2585s 435ms/step - loss: 0.1811 - accuracy: 0.9432 - val_loss: 0.1017 - val_accuracy: 0.9666\n",
            "Epoch 3/5\n",
            "5938/5938 [==============================] - 2561s 431ms/step - loss: 0.1203 - accuracy: 0.9629 - val_loss: 0.0870 - val_accuracy: 0.9719\n",
            "Epoch 4/5\n",
            "5601/5938 [===========================>..] - ETA: 2:25 - loss: 0.0941 - accuracy: 0.9713"
          ],
          "name": "stdout"
        }
      ]
    },
    {
      "cell_type": "code",
      "metadata": {
        "id": "FBunUzsczBlj"
      },
      "source": [
        "# Checking the Model Architecture\n",
        "model.summary()"
      ],
      "execution_count": null,
      "outputs": []
    },
    {
      "cell_type": "code",
      "metadata": {
        "id": "pRtCynZBpI9P"
      },
      "source": [
        "# Removing the top layer and addding a new top layer\n",
        "model.pop()\n",
        "model.add(keras.layers.Dense(10, name='dense_3', activation='softmax'))"
      ],
      "execution_count": 10,
      "outputs": []
    },
    {
      "cell_type": "code",
      "metadata": {
        "colab": {
          "base_uri": "https://localhost:8080/"
        },
        "id": "30zca1Vcq1Mo",
        "outputId": "539c98d0-5168-4054-f9bf-847402ddee8b"
      },
      "source": [
        "# Checking the changes in Model Architecture\n",
        "model.summary()"
      ],
      "execution_count": 12,
      "outputs": [
        {
          "output_type": "stream",
          "text": [
            "Model: \"sequential\"\n",
            "_________________________________________________________________\n",
            "Layer (type)                 Output Shape              Param #   \n",
            "=================================================================\n",
            "conv2d (Conv2D)              (None, 28, 28, 64)        3200      \n",
            "_________________________________________________________________\n",
            "max_pooling2d (MaxPooling2D) (None, 14, 14, 64)        0         \n",
            "_________________________________________________________________\n",
            "conv2d_1 (Conv2D)            (None, 14, 14, 128)       73856     \n",
            "_________________________________________________________________\n",
            "conv2d_2 (Conv2D)            (None, 14, 14, 128)       147584    \n",
            "_________________________________________________________________\n",
            "max_pooling2d_1 (MaxPooling2 (None, 7, 7, 128)         0         \n",
            "_________________________________________________________________\n",
            "conv2d_3 (Conv2D)            (None, 7, 7, 256)         295168    \n",
            "_________________________________________________________________\n",
            "conv2d_4 (Conv2D)            (None, 7, 7, 256)         590080    \n",
            "_________________________________________________________________\n",
            "max_pooling2d_2 (MaxPooling2 (None, 3, 3, 256)         0         \n",
            "_________________________________________________________________\n",
            "flatten (Flatten)            (None, 2304)              0         \n",
            "_________________________________________________________________\n",
            "dense (Dense)                (None, 128)               295040    \n",
            "_________________________________________________________________\n",
            "dropout (Dropout)            (None, 128)               0         \n",
            "_________________________________________________________________\n",
            "dense_1 (Dense)              (None, 64)                8256      \n",
            "_________________________________________________________________\n",
            "dropout_1 (Dropout)          (None, 64)                0         \n",
            "_________________________________________________________________\n",
            "dense_3 (Dense)              (None, 10)                650       \n",
            "=================================================================\n",
            "Total params: 1,413,834\n",
            "Trainable params: 1,413,834\n",
            "Non-trainable params: 0\n",
            "_________________________________________________________________\n"
          ],
          "name": "stdout"
        }
      ]
    },
    {
      "cell_type": "code",
      "metadata": {
        "colab": {
          "base_uri": "https://localhost:8080/"
        },
        "id": "iU9-UEJ8rS7X",
        "outputId": "9ad7bf00-a402-4668-f292-e0d9c54b45be"
      },
      "source": [
        "# Check the 'Trainable' status of each layer\n",
        "for layer in model.layers:\n",
        "    print(layer.name, layer.trainable)"
      ],
      "execution_count": 13,
      "outputs": [
        {
          "output_type": "stream",
          "text": [
            "conv2d True\n",
            "max_pooling2d True\n",
            "conv2d_1 True\n",
            "conv2d_2 True\n",
            "max_pooling2d_1 True\n",
            "conv2d_3 True\n",
            "conv2d_4 True\n",
            "max_pooling2d_2 True\n",
            "flatten True\n",
            "dense True\n",
            "dropout True\n",
            "dense_1 True\n",
            "dropout_1 True\n",
            "dense_3 True\n"
          ],
          "name": "stdout"
        }
      ]
    },
    {
      "cell_type": "code",
      "metadata": {
        "id": "70p16Vb_ruj2"
      },
      "source": [
        "# Freezing the Convolutional Layers while keeping Dense layers as Trainable\n",
        "for layer in model.layers:\n",
        "    if layer.name in ['dense_3', 'dense_1', 'dense', 'dropout', 'dropout_1']:\n",
        "      layer.trainable=True\n",
        "    else:\n",
        "      layer.trainable=False"
      ],
      "execution_count": 14,
      "outputs": []
    },
    {
      "cell_type": "code",
      "metadata": {
        "colab": {
          "base_uri": "https://localhost:8080/"
        },
        "id": "DNAXyPxnsDQ0",
        "outputId": "0b284095-9bac-4bc7-a329-6883cfdd5f28"
      },
      "source": [
        "# Checking if the changes in 'Trainable' status of each layer have taken place\n",
        "for layer in model.layers:\n",
        "    print(layer.name, layer.trainable)"
      ],
      "execution_count": 15,
      "outputs": [
        {
          "output_type": "stream",
          "text": [
            "conv2d False\n",
            "max_pooling2d False\n",
            "conv2d_1 False\n",
            "conv2d_2 False\n",
            "max_pooling2d_1 False\n",
            "conv2d_3 False\n",
            "conv2d_4 False\n",
            "max_pooling2d_2 False\n",
            "flatten False\n",
            "dense True\n",
            "dropout True\n",
            "dense_1 True\n",
            "dropout_1 True\n",
            "dense_3 True\n"
          ],
          "name": "stdout"
        }
      ]
    },
    {
      "cell_type": "code",
      "metadata": {
        "id": "UkrwLVmKshzl"
      },
      "source": [
        "# Reshaping the Inputs\n",
        "X_labeled=X_labeled.reshape(-1, 28, 28, 1)\n",
        "X_val=X_val.reshape(-1, 28, 28, 1)\n",
        "X_test=X_test.reshape(-1, 28, 28, 1)"
      ],
      "execution_count": 16,
      "outputs": []
    },
    {
      "cell_type": "code",
      "metadata": {
        "colab": {
          "base_uri": "https://localhost:8080/"
        },
        "id": "2iEq5WJXsGWZ",
        "outputId": "baede563-171e-41cd-8f25-1f5eaf171422"
      },
      "source": [
        "# Compiling the model\n",
        "model.compile(loss=\"sparse_categorical_crossentropy\", optimizer=\"sgd\", metrics=[\"accuracy\"])\n",
        "\n",
        "# Training the model on Downstream Task\n",
        "history=model.fit(X_labeled, y_labeled, validation_data=(X_val, y_val), epochs=10)"
      ],
      "execution_count": 17,
      "outputs": [
        {
          "output_type": "stream",
          "text": [
            "Epoch 1/10\n",
            "313/313 [==============================] - 51s 160ms/step - loss: 1.8619 - accuracy: 0.3328 - val_loss: 1.1464 - val_accuracy: 0.6266\n",
            "Epoch 2/10\n",
            "313/313 [==============================] - 50s 159ms/step - loss: 1.2749 - accuracy: 0.5353 - val_loss: 0.8314 - val_accuracy: 0.7446\n",
            "Epoch 3/10\n",
            "313/313 [==============================] - 52s 165ms/step - loss: 1.0299 - accuracy: 0.6200 - val_loss: 0.6737 - val_accuracy: 0.7644\n",
            "Epoch 4/10\n",
            "313/313 [==============================] - 51s 163ms/step - loss: 0.8902 - accuracy: 0.6725 - val_loss: 0.6141 - val_accuracy: 0.7880\n",
            "Epoch 5/10\n",
            "313/313 [==============================] - 50s 160ms/step - loss: 0.8132 - accuracy: 0.6972 - val_loss: 0.5685 - val_accuracy: 0.7916\n",
            "Epoch 6/10\n",
            "313/313 [==============================] - 50s 159ms/step - loss: 0.7473 - accuracy: 0.7268 - val_loss: 0.5347 - val_accuracy: 0.8030\n",
            "Epoch 7/10\n",
            "313/313 [==============================] - 51s 163ms/step - loss: 0.7006 - accuracy: 0.7434 - val_loss: 0.5190 - val_accuracy: 0.8046\n",
            "Epoch 8/10\n",
            "313/313 [==============================] - 52s 165ms/step - loss: 0.6779 - accuracy: 0.7496 - val_loss: 0.5023 - val_accuracy: 0.8202\n",
            "Epoch 9/10\n",
            "313/313 [==============================] - 51s 164ms/step - loss: 0.6409 - accuracy: 0.7642 - val_loss: 0.4879 - val_accuracy: 0.8258\n",
            "Epoch 10/10\n",
            "313/313 [==============================] - 51s 163ms/step - loss: 0.6286 - accuracy: 0.7735 - val_loss: 0.4822 - val_accuracy: 0.8232\n"
          ],
          "name": "stdout"
        }
      ]
    },
    {
      "cell_type": "code",
      "metadata": {
        "colab": {
          "base_uri": "https://localhost:8080/"
        },
        "id": "lBzwmXT-saYE",
        "outputId": "f80a2e1e-52e7-4615-ff68-6c85821f458d"
      },
      "source": [
        "# Evaluating the model on the Test set\n",
        "model.evaluate(X_test, y_test)"
      ],
      "execution_count": 60,
      "outputs": [
        {
          "output_type": "stream",
          "text": [
            "157/157 [==============================] - 10s 65ms/step - loss: 0.4387 - accuracy: 0.8432\n"
          ],
          "name": "stdout"
        },
        {
          "output_type": "execute_result",
          "data": {
            "text/plain": [
              "[0.43870440125465393, 0.8432000279426575]"
            ]
          },
          "metadata": {
            "tags": []
          },
          "execution_count": 60
        }
      ]
    }
  ]
}