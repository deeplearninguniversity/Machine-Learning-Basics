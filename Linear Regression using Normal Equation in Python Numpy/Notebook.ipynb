{
  "nbformat": 4,
  "nbformat_minor": 0,
  "metadata": {
    "colab": {
      "name": "Untitled5.ipynb",
      "provenance": [],
      "collapsed_sections": []
    },
    "kernelspec": {
      "name": "python3",
      "display_name": "Python 3"
    }
  },
  "cells": [
    {
      "cell_type": "code",
      "metadata": {
        "id": "Qtz6uzS0EuZc",
        "colab_type": "code",
        "colab": {}
      },
      "source": [
        "import numpy as np\n",
        "import matplotlib.pyplot as plt\n",
        "#importing numpy and matplotlib libdraries\n",
        "%matplotlib inline\n",
        "#to plot figures in jupyter notebook"
      ],
      "execution_count": 0,
      "outputs": []
    },
    {
      "cell_type": "code",
      "metadata": {
        "id": "HEXQ-o3iFlFI",
        "colab_type": "code",
        "colab": {}
      },
      "source": [
        "np.random.seed(0)\n",
        "#to make output consistent across runs"
      ],
      "execution_count": 0,
      "outputs": []
    },
    {
      "cell_type": "code",
      "metadata": {
        "id": "Wbh7SXGLF24W",
        "colab_type": "code",
        "colab": {}
      },
      "source": [
        "X = 3 * np.random.rand(250, 1)\n",
        "y = 7 + 1.5 * X + np.random.rand(250, 1)\n",
        "#creating a dataset of 250 instances"
      ],
      "execution_count": 0,
      "outputs": []
    },
    {
      "cell_type": "code",
      "metadata": {
        "id": "Mz8EDof7GA4O",
        "colab_type": "code",
        "colab": {
          "base_uri": "https://localhost:8080/",
          "height": 51
        },
        "outputId": "77778912-5721-4bf1-c5b0-c7a116299821"
      },
      "source": [
        "X_train = np.c_[np.ones((250, 1)), X]\n",
        "#X_train contains n+1 features with Xm0 being 1 in all instances\n",
        "theta=np.linalg.inv(X_train.T.dot(X_train)).dot(X_train.T).dot(y)\n",
        "#use the normal equation to find the value of theta\n",
        "print(theta)\n",
        "#prints the value of theta."
      ],
      "execution_count": 4,
      "outputs": [
        {
          "output_type": "stream",
          "text": [
            "[[7.46525495]\n",
            " [1.52402878]]\n"
          ],
          "name": "stdout"
        }
      ]
    },
    {
      "cell_type": "code",
      "metadata": {
        "id": "u_iTD8C7HTzY",
        "colab_type": "code",
        "colab": {
          "base_uri": "https://localhost:8080/",
          "height": 68
        },
        "outputId": "326f4e84-9eeb-4595-a850-f647311e54e9"
      },
      "source": [
        "#making predictions using calculated values of theta\n",
        "\n",
        "X2 = np.array([[1], [3], [5]])\n",
        "#create a set of 3 instances\n",
        "X_test = np.c_[np.ones((3, 1)), X2]\n",
        "#create a test set with n+1 features with Xm0 being 1 in all instances\n",
        "y_predicted=X_test.dot(theta)\n",
        "#calculate the output by taking a weighted sum of the input\n",
        "print(y_predicted)\n",
        "#prints the predicted value for the given test set"
      ],
      "execution_count": 5,
      "outputs": [
        {
          "output_type": "stream",
          "text": [
            "[[ 8.98928373]\n",
            " [12.0373413 ]\n",
            " [15.08539886]]\n"
          ],
          "name": "stdout"
        }
      ]
    },
    {
      "cell_type": "code",
      "metadata": {
        "id": "hMSlp1WAKUlK",
        "colab_type": "code",
        "colab": {}
      },
      "source": [
        ""
      ],
      "execution_count": 0,
      "outputs": []
    }
  ]
}