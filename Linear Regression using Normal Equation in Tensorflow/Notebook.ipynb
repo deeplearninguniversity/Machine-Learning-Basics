{
  "nbformat": 4,
  "nbformat_minor": 0,
  "metadata": {
    "colab": {
      "name": "Untitled0.ipynb",
      "provenance": [],
      "collapsed_sections": []
    },
    "kernelspec": {
      "name": "python3",
      "display_name": "Python 3"
    }
  },
  "cells": [
    {
      "cell_type": "code",
      "metadata": {
        "id": "Hoo_pVg8LujI",
        "colab_type": "code",
        "colab": {
          "base_uri": "https://localhost:8080/",
          "height": 34
        },
        "outputId": "705e4b35-d5ab-4ffc-d698-1ec260137ed5"
      },
      "source": [
        "%tensorflow_version 1.x\n",
        "# for choosing tensorflow version 1\n",
        "\n",
        "import numpy as np\n",
        "import tensorflow as tf\n",
        "#import the numpy and tensorflow libraries"
      ],
      "execution_count": 1,
      "outputs": [
        {
          "output_type": "stream",
          "text": [
            "TensorFlow 1.x selected.\n"
          ],
          "name": "stdout"
        }
      ]
    },
    {
      "cell_type": "markdown",
      "metadata": {
        "id": "fHnR_oYNEhxw",
        "colab_type": "text"
      },
      "source": [
        "Creating an Artificial Dataset"
      ]
    },
    {
      "cell_type": "code",
      "metadata": {
        "id": "4EvNQsW8B1W8",
        "colab_type": "code",
        "colab": {}
      },
      "source": [
        "#creating a dataset of 250 instances\n",
        "X = 3 * np.random.rand(250, 1)\n",
        "y = 9 + 3 * X + np.random.rand(250, 1)"
      ],
      "execution_count": 0,
      "outputs": []
    },
    {
      "cell_type": "markdown",
      "metadata": {
        "id": "EpPehrLBEmMa",
        "colab_type": "text"
      },
      "source": [
        "Training the model by calculating the values of Theta Vector"
      ]
    },
    {
      "cell_type": "code",
      "metadata": {
        "id": "dEv9riokCU4S",
        "colab_type": "code",
        "outputId": "971f4f2a-868b-48a6-9cda-b8f586550a8c",
        "colab": {
          "base_uri": "https://localhost:8080/",
          "height": 51
        }
      },
      "source": [
        "X_train=np.c_[np.ones((250, 1)), X]\n",
        "#create a train set with n+1 features with Xm0 being 1 in all instances\n",
        "\n",
        "X_train_T = tf.transpose(X_train)\n",
        "#create transpose of X_train\n",
        "\n",
        "theta = tf.matmul(tf.matmul(tf.matrix_inverse(tf.matmul(X_train_T, X_train)), X_train_T), y)\n",
        "# calculates the values of theta vector by using the normal equation\n",
        "\n",
        "with tf.Session() as sess: \n",
        "  theta_value = theta.eval()\n",
        "  print(theta_value)\n",
        "#calculates the value of theta and\n",
        "#prints the value of theta as- [[9.4615029 ]\n",
        "#                               [3.01946809]]"
      ],
      "execution_count": 4,
      "outputs": [
        {
          "output_type": "stream",
          "text": [
            "[[9.4615029 ]\n",
            " [3.01946809]]\n"
          ],
          "name": "stdout"
        }
      ]
    },
    {
      "cell_type": "markdown",
      "metadata": {
        "id": "f5JxUeAOFcZG",
        "colab_type": "text"
      },
      "source": [
        "Predicting Output over Test Set"
      ]
    },
    {
      "cell_type": "code",
      "metadata": {
        "id": "hO16khbFEJ0Q",
        "colab_type": "code",
        "outputId": "410ed02d-1f7e-45b7-fbd0-9b401f2b4d24",
        "colab": {
          "base_uri": "https://localhost:8080/",
          "height": 68
        }
      },
      "source": [
        "X2 = np.array([[1], [4], [7]])\n",
        "# create a test set of 3 instance\n",
        "\n",
        "X_test = np.c_[np.ones((3, 1)), X2]\n",
        "# create a test set with n+1 features with Xm0 being 1 in all instances\n",
        "\n",
        "with tf.Session() as sess:\n",
        " y_predicted = tf.matmul(X_test, theta).eval()\n",
        " print(y_predicted)\n",
        "# calculate the output by taking a weighted sum of the inputs\n",
        "# prints the predicted values for the given test dataset\n",
        "# prints- [[12.48097098]\n",
        "#          [21.53937525]\n",
        "#          [30.59777951]]"
      ],
      "execution_count": 6,
      "outputs": [
        {
          "output_type": "stream",
          "text": [
            "[[12.48097098]\n",
            " [21.53937525]\n",
            " [30.59777951]]\n"
          ],
          "name": "stdout"
        }
      ]
    },
    {
      "cell_type": "markdown",
      "metadata": {
        "id": "wRlykbhvHKEK",
        "colab_type": "text"
      },
      "source": [
        "### Note- The Output may differ slightly depending on the randomly genarated dataset"
      ]
    }
  ]
}